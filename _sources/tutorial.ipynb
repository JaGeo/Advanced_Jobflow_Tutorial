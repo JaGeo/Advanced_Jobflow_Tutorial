{
 "cells": [
  {
   "cell_type": "markdown",
   "source": [
    "# The Tutorial\n",
    "The tutorial has been written by [J. George](https://jageo.github.io/) (Federal Institute for Materials Research and Testing in Germany, Friedrich Schiller University in Berlin. Suggestions and corrections by A. Naik and C. Ertural have been included."
   ],
   "metadata": {
    "collapsed": false
   }
  },
  {
   "cell_type": "markdown",
   "metadata": {},
   "source": [
    "## Jobflow\n",
    "We will use [jobflow](https://github.com/materialsproject/jobflow) to write and execute workflows on our local machines. One can also start these computations on supercomputers and convert the flows from jobflow to Workflows that can be executed with [Fireworks](https://materialsproject.github.io/fireworks/). This allows for parallel execution of jobs that are in the same workflow.\n",
    "\n",
    "We recommend doing the basic jobflow tutorials [Five-minute Quickstart](https://materialsproject.github.io/jobflow/tutorials/1-quickstart.html), [Introdution to jobflow](https://materialsproject.github.io/jobflow/tutorials/2-introduction.html) and [Defining jobs in jobflow](https://materialsproject.github.io/jobflow/tutorials/3-defining-jobs.html) before starting with this tutorial.\n",
    "\n",
    "The tutorial will cover the development of a workflow to compute the equation of state and of a workflow to compute vibrational properties (phonons). It aims at the computational materials science community rather than chemistry but the workflow development should not be different. The tutorial will assume background in solid-state chemistry and physics."
   ]
  },
  {
   "cell_type": "markdown",
   "metadata": {},
   "source": [
    "## Install Relevant Software"
   ]
  },
  {
   "cell_type": "markdown",
   "metadata": {},
   "source": [
    "We start by installing all relevant software. We will use jobflow but also two typical software from computational materials science. [ASE](https://gitlab.com/ase/ase) and [pymatgen](https://pymatgen.org/). [pymatgen](https://pymatgen.org/) works especially well together with jobflow as both have been developed in the context of the [Materials Project](https://materialsproject.org/)."
   ]
  },
  {
   "cell_type": "code",
   "execution_count": 110,
   "metadata": {
    "ExecuteTime": {
     "end_time": "2023-06-02T11:24:43.179738130Z",
     "start_time": "2023-06-02T11:24:40.086943142Z"
    }
   },
   "outputs": [],
   "source": [
    "%%capture\n",
    "!pip install jobflow"
   ]
  },
  {
   "cell_type": "code",
   "execution_count": 111,
   "metadata": {
    "ExecuteTime": {
     "end_time": "2023-06-02T11:24:46.036615287Z",
     "start_time": "2023-06-02T11:24:43.185106525Z"
    }
   },
   "outputs": [],
   "source": [
    "%%capture\n",
    "!pip install ase"
   ]
  },
  {
   "cell_type": "code",
   "execution_count": 112,
   "metadata": {
    "ExecuteTime": {
     "end_time": "2023-06-02T11:24:49.161736944Z",
     "start_time": "2023-06-02T11:24:46.042200221Z"
    }
   },
   "outputs": [],
   "source": [
    "%%capture\n",
    "!pip install pymatgen"
   ]
  },
  {
   "cell_type": "markdown",
   "metadata": {},
   "source": [
    "## Workflow to compute the equation of state (e.g., to compute a bulk modulus)\n",
    "\n",
    "In this first tutorial, we will build `flows` and `jobs` to automatize the computation of the equation of state. This tutorial has been inspired by the equation of state tutorial from ASE: [https://wiki.fysik.dtu.dk/ase/tutorials/eos/eos.html](https://wiki.fysik.dtu.dk/ase/tutorials/eos/eos.html).\n",
    "\n",
    "Please also check out this nice paper that compares different equations of state: [K. Latimer, S. Dwaraknath, K. Mathew, D. Winston, K. A. Persson, npj Comput Mater 2018, 4, 40.](https://doi.org/10.1038/s41524-018-0091-x) You can use the different equations of state with the help of [pymatgen](https://github.com/materialsproject/pymatgen).\n"
   ]
  },
  {
   "cell_type": "markdown",
   "metadata": {},
   "source": [
    "### How does the computation work without workflow\n",
    "We will start by looking at how we would compute the results without workflow. To avoid needing large computing resources, we will choose a very fast [calculator](https://wiki.fysik.dtu.dk/ase/ase/calculators/calculators.html) from ase (i.e., an object to compute energies, forces and stresses from ab initio theories or force fields for a given structure) and small unit cells during the computations. The exact method \"Effective Medium Theory\" will be introduced below."
   ]
  },
  {
   "cell_type": "markdown",
   "metadata": {},
   "source": [
    "We will start by constructing a simple unit cell with the `Atoms` object in ASE: Ag in fcc structure type. The `Atoms` object in ASE is used to represent the structure. It can also be directly connected to electronic energies, forces and stresses when a calculator is added."
   ]
  },
  {
   "cell_type": "code",
   "execution_count": 113,
   "metadata": {
    "ExecuteTime": {
     "end_time": "2023-06-02T11:24:49.169093772Z",
     "start_time": "2023-06-02T11:24:49.165740862Z"
    }
   },
   "outputs": [],
   "source": [
    "from ase.build import bulk\n",
    "\n",
    "atoms = bulk(\"Ag\", \"fcc\", 3.9)"
   ]
  },
  {
   "cell_type": "code",
   "execution_count": 114,
   "metadata": {
    "ExecuteTime": {
     "end_time": "2023-06-02T11:24:49.176340177Z",
     "start_time": "2023-06-02T11:24:49.171993949Z"
    }
   },
   "outputs": [
    {
     "name": "stdout",
     "output_type": "stream",
     "text": [
      "Atoms(symbols='Ag', pbc=True, cell=[[0.0, 1.95, 1.95], [1.95, 0.0, 1.95], [1.95, 1.95, 0.0]])\n"
     ]
    }
   ],
   "source": [
    "print(atoms)"
   ]
  },
  {
   "cell_type": "markdown",
   "metadata": {},
   "source": [
    "It is possible to visualize the structure."
   ]
  },
  {
   "cell_type": "code",
   "execution_count": 115,
   "metadata": {
    "ExecuteTime": {
     "end_time": "2023-06-02T11:24:49.493951322Z",
     "start_time": "2023-06-02T11:24:49.181525276Z"
    }
   },
   "outputs": [
    {
     "data": {
      "text/plain": "<Axes: >"
     },
     "execution_count": 115,
     "metadata": {},
     "output_type": "execute_result"
    },
    {
     "data": {
      "text/plain": "<Figure size 640x480 with 1 Axes>",
      "image/png": "[encoded data removed]"
     },
     "metadata": {},
     "output_type": "display_data"
    }
   ],
   "source": [
    "from ase.visualize.plot import plot_atoms\n",
    "plot_atoms(atoms)"
   ]
  },
  {
   "cell_type": "markdown",
   "metadata": {},
   "source": [
    "Besides using an ASE `Atoms` object, we will later on also use `Structure` objects from pymatgen. They are very handy as they can be easily converted to json which is used by jobflow to encode job outputs. There are conversion tools from the `Atoms` object to the `Structure` object available in pymatgen. Let's create a `Structure` object from an `Atoms` object. This converter will only convert the structural information but not information on the computations that can also be stored in the `Atoms` object."
   ]
  },
  {
   "cell_type": "code",
   "execution_count": 116,
   "metadata": {
    "ExecuteTime": {
     "end_time": "2023-06-02T11:24:49.504075619Z",
     "start_time": "2023-06-02T11:24:49.499109749Z"
    }
   },
   "outputs": [
    {
     "name": "stdout",
     "output_type": "stream",
     "text": [
      "Full Formula (Ag1)\n",
      "Reduced Formula: Ag\n",
      "abc   :   2.757716   2.757716   2.757716\n",
      "angles:  60.000000  60.000000  60.000000\n",
      "pbc   :       True       True       True\n",
      "Sites (1)\n",
      "  #  SP      a    b    c\n",
      "---  ----  ---  ---  ---\n",
      "  0  Ag      0    0    0\n",
      "{'@module': 'pymatgen.core.structure', '@class': 'Structure', 'charge': 0, 'lattice': {'matrix': [[0.0, 1.95, 1.95], [1.95, 0.0, 1.95], [1.95, 1.95, 0.0]], 'pbc': (True, True, True), 'a': 2.7577164466275352, 'b': 2.7577164466275352, 'c': 2.7577164466275352, 'alpha': 59.99999999999999, 'beta': 59.99999999999999, 'gamma': 59.99999999999999, 'volume': 14.829749999999999}, 'sites': [{'species': [{'element': 'Ag', 'occu': 1}], 'abc': [0.0, 0.0, 0.0], 'xyz': [0.0, 0.0, 0.0], 'label': 'Ag', 'properties': {}}]}\n"
     ]
    }
   ],
   "source": [
    "from pymatgen.io.ase import AseAtomsAdaptor\n",
    "\n",
    "structure = AseAtomsAdaptor().get_structure(atoms)\n",
    "print(structure)\n",
    "print(structure.as_dict())"
   ]
  },
  {
   "cell_type": "markdown",
   "metadata": {},
   "source": [
    "#### Effective Medium Theory (EMT)\n",
    "To calculate energies, forces and stresses, we will use effective-medium theory as described in [K. W. Jacobsen, J. K. Norskov, M. J. Puska, Phys. Rev. B 1987, 35, 7423–7442.\n",
    "](https://journals.aps.org/prb/abstract/10.1103/PhysRevB.35.7423) We mainly use this approximation to be able to perform the computations without high-performance computers and still have reasonable results for simple solids such as Ag. The method is based on an ansatz that assumes that the total electron density can be expressed as a sum of the electron densities of individual atoms. The electron densities of the individual atoms are calculated separately assuming that each atom is embedded in a homogeneous electron gas. It's not necessary to understand this approximation in detail to perform the exercises. Typically, our workflows in computational materials science use DFT (e.g., as implemented in VASP).\n"
   ]
  },
  {
   "cell_type": "markdown",
   "metadata": {},
   "source": [
    "Let's add the EMT calculator to the `Atoms` object."
   ]
  },
  {
   "cell_type": "code",
   "execution_count": 117,
   "metadata": {
    "ExecuteTime": {
     "end_time": "2023-06-02T11:24:49.578019169Z",
     "start_time": "2023-06-02T11:24:49.508095776Z"
    }
   },
   "outputs": [],
   "source": [
    "from ase.calculators.emt import EMT\n",
    "\n",
    "atoms.calc = EMT()"
   ]
  },
  {
   "cell_type": "markdown",
   "source": [],
   "metadata": {
    "collapsed": false
   }
  },
  {
   "cell_type": "markdown",
   "metadata": {},
   "source": [
    "#### Structure optimization\n",
    "We need a structural optimization for the equation of state workflow. To do so, we will use a standard optimizer from ASE ([BFGS](https://databases.fysik.dtu.dk/ase/ase/optimize.html#ase.optimize.BFGS)) here to perform the optimization. We add an additional `Filter`, the [ExpCellFilter](https://wiki.fysik.dtu.dk/ase/ase/constraints.html#the-expcellfilter-class), to also optimize the cell parameters and not only the atomic positions."
   ]
  },
  {
   "cell_type": "code",
   "execution_count": 118,
   "metadata": {
    "ExecuteTime": {
     "end_time": "2023-06-02T11:24:49.723687046Z",
     "start_time": "2023-06-02T11:24:49.516542752Z"
    }
   },
   "outputs": [
    {
     "name": "stdout",
     "output_type": "stream",
     "text": [
      "Atoms(symbols='Ag', pbc=True, cell=[[0.0, 1.95, 1.95], [1.95, 0.0, 1.95], [1.95, 1.95, 0.0]], calculator=EMT(...))\n",
      "      Step     Time          Energy         fmax\n",
      "BFGS:    0 13:24:49        0.088477        1.5173\n",
      "BFGS:    1 13:24:49        0.018361        0.6601\n",
      "BFGS:    2 13:24:49       -0.000016        0.0864\n",
      "BFGS:    3 13:24:49       -0.000365        0.0064\n",
      "BFGS:    4 13:24:49       -0.000367        0.0001\n",
      "BFGS:    5 13:24:49       -0.000367        0.0000\n",
      "Atoms(symbols='Ag', pbc=True, cell=[[-2.298712018099952e-16, 2.0317762972959157, 2.0317762972959117], [2.0317762972959135, 2.3373590085817006e-15, 2.0317762972959117], [2.031776297295913, 2.0317762972959126, 1.2589072243282675e-16]], calculator=EMT(...))\n"
     ]
    }
   ],
   "source": [
    "from ase.optimize import BFGS\n",
    "from ase.constraints import ExpCellFilter\n",
    "\n",
    "print(atoms)\n",
    "opt = BFGS(ExpCellFilter(atoms))\n",
    "opt.run(fmax=0.00001)\n",
    "print(atoms)"
   ]
  },
  {
   "cell_type": "markdown",
   "metadata": {},
   "source": [
    "We have printed the `Atoms` object before and after the optimization. As you can see, the cell parameters have changed. The atomic positions will typically not change due to the high symmetry of the chosen structure."
   ]
  },
  {
   "cell_type": "markdown",
   "source": [
    "Next, we are printing the results for energies, forces and stresses."
   ],
   "metadata": {
    "collapsed": false
   }
  },
  {
   "cell_type": "code",
   "execution_count": 119,
   "metadata": {
    "ExecuteTime": {
     "end_time": "2023-06-02T11:24:49.724790477Z",
     "start_time": "2023-06-02T11:24:49.720426979Z"
    }
   },
   "outputs": [
    {
     "name": "stdout",
     "output_type": "stream",
     "text": [
      "{'energy': -0.00036686253946172087, 'energies': array([-0.00036686]), 'free_energy': -0.00036686253946172087, 'forces': array([[0., 0., 0.]]), 'stress': array([-3.44910465e-09, -3.44910586e-09, -3.44910471e-09,  5.07608054e-16,\n",
      "        1.58738221e-17, -7.53100562e-17])}\n"
     ]
    }
   ],
   "source": [
    "print(atoms.calc.results)"
   ]
  },
  {
   "cell_type": "markdown",
   "metadata": {},
   "source": [
    "#### Computing energies and volumes for the equation of state\n",
    "After this full optimization of the structure, we will now scale the cell parameters to get our energy-volume curve. At each of the scaled cells, we will perform an optimization with constant volume and evaluate the energy at the different volumes. We start with current cell parameters after the full optimization:"
   ]
  },
  {
   "cell_type": "code",
   "execution_count": 120,
   "metadata": {
    "ExecuteTime": {
     "end_time": "2023-06-02T11:24:49.735478103Z",
     "start_time": "2023-06-02T11:24:49.720798968Z"
    }
   },
   "outputs": [
    {
     "name": "stdout",
     "output_type": "stream",
     "text": [
      "Cell([[-2.298712018099952e-16, 2.0317762972959157, 2.0317762972959117], [2.0317762972959135, 2.3373590085817006e-15, 2.0317762972959117], [2.031776297295913, 2.0317762972959126, 1.2589072243282675e-16]])\n"
     ]
    }
   ],
   "source": [
    "cell = atoms.get_cell()\n",
    "print(cell)"
   ]
  },
  {
   "cell_type": "markdown",
   "metadata": {},
   "source": [
    "We will first test the scaling with a volume change of 1%:"
   ]
  },
  {
   "cell_type": "code",
   "execution_count": 121,
   "metadata": {
    "ExecuteTime": {
     "end_time": "2023-06-02T11:24:49.750706187Z",
     "start_time": "2023-06-02T11:24:49.720962716Z"
    }
   },
   "outputs": [
    {
     "name": "stdout",
     "output_type": "stream",
     "text": [
      "[[-2.32169914e-16  2.05209406e+00  2.05209406e+00]\n",
      " [ 2.05209406e+00  2.36073260e-15  2.05209406e+00]\n",
      " [ 2.05209406e+00  2.05209406e+00  1.27149630e-16]]\n",
      "Cell([[-2.298712018099952e-16, 2.0317762972959157, 2.0317762972959117], [2.0317762972959135, 2.3373590085817006e-15, 2.0317762972959117], [2.031776297295913, 2.0317762972959126, 1.2589072243282675e-16]])\n"
     ]
    }
   ],
   "source": [
    "new_cell = cell * 1.01\n",
    "print(new_cell)\n",
    "print(cell)"
   ]
  },
  {
   "cell_type": "markdown",
   "metadata": {},
   "source": [
    "Now, we will perform the full energy volume-curve computation. The optimizations that we will perform will now be at constant volume. After the optimization, we are collecting the volumes and energies."
   ]
  },
  {
   "cell_type": "code",
   "execution_count": 122,
   "metadata": {
    "ExecuteTime": {
     "end_time": "2023-06-02T11:24:49.905361217Z",
     "start_time": "2023-06-02T11:24:49.721106794Z"
    }
   },
   "outputs": [
    {
     "name": "stdout",
     "output_type": "stream",
     "text": [
      "      Step     Time          Energy         fmax\n",
      "BFGS:    0 13:24:49        0.141689        0.0000\n",
      "      Step     Time          Energy         fmax\n",
      "BFGS:    0 13:24:49        0.047146        0.0000\n",
      "      Step     Time          Energy         fmax\n",
      "BFGS:    0 13:24:49        0.004531        0.0000\n",
      "      Step     Time          Energy         fmax\n",
      "BFGS:    0 13:24:49       -0.000367        0.0000\n",
      "      Step     Time          Energy         fmax\n",
      "BFGS:    0 13:24:49        0.004180        0.0000\n",
      "      Step     Time          Energy         fmax\n",
      "BFGS:    0 13:24:49        0.037658        0.0000\n",
      "      Step     Time          Energy         fmax\n",
      "BFGS:    0 13:24:49        0.098005        0.0000\n",
      "[14.382304526892272, 15.309918086569299, 16.27658340882234, 16.774812103096398, 17.283105684632318, 18.330290104980214, 19.418941860846967]\n",
      "[0.14168852968516887, 0.04714559046761835, 0.004531478880869244, -0.00036686253946172087, 0.004180145974302718, 0.03765776040276947, 0.0980053988235543]\n"
     ]
    }
   ],
   "source": [
    "import numpy as np\n",
    "from ase.io.trajectory import Trajectory\n",
    "from copy import deepcopy\n",
    "\n",
    "cell = atoms.get_cell()\n",
    "\n",
    "volumes = []\n",
    "energies = []\n",
    "for x in [0.95, 0.97, 0.99, 1.00, 1.01, 1.03, 1.05]:\n",
    "    optimized_atoms = deepcopy(atoms)\n",
    "    optimized_atoms.set_cell(cell * x, scale_atoms=True)\n",
    "    opt = BFGS(ExpCellFilter(optimized_atoms, constant_volume=True), logfile=\"./optimization.log\")\n",
    "    opt.run(fmax=0.00001)\n",
    "    volumes.append(optimized_atoms.get_volume())\n",
    "    energies.append(optimized_atoms.get_potential_energy())\n",
    "\n",
    "print(volumes)\n",
    "print(energies)"
   ]
  },
  {
   "cell_type": "markdown",
   "metadata": {},
   "source": [
    "#### Plotting and evaluating the equation of state\n",
    "We will now plot the equation of state:"
   ]
  },
  {
   "cell_type": "code",
   "execution_count": 142,
   "metadata": {
    "ExecuteTime": {
     "end_time": "2023-06-02T12:04:41.109676866Z",
     "start_time": "2023-06-02T12:04:40.762200939Z"
    }
   },
   "outputs": [
    {
     "name": "stdout",
     "output_type": "stream",
     "text": [
      "0.6242845498684262 eV Angstrom**(-3)\n",
      "100.02141105258441 GPa\n"
     ]
    },
    {
     "data": {
      "text/plain": "<Axes: title={'center': 'sj: E: -0.000 eV, V: 16.776 Å$^3$, B: 100.021 GPa'}, xlabel='volume [Å$^3$]', ylabel='energy [eV]'>"
     },
     "execution_count": 142,
     "metadata": {},
     "output_type": "execute_result"
    },
    {
     "data": {
      "text/plain": "<Figure size 640x480 with 1 Axes>",
      "image/png": "[encoded data removed]"
     },
     "metadata": {},
     "output_type": "display_data"
    }
   ],
   "source": [
    "from ase.units import kJ\n",
    "from ase.eos import EquationOfState\n",
    "\n",
    "eos = EquationOfState(volumes, energies)\n",
    "v0, e0, B = eos.fit()\n",
    "print(B, 'eV Angstrom**(-3)')\n",
    "print(B / kJ * 1.0e24, 'GPa')\n",
    "eos.plot('outputs/Ag-eos.png')"
   ]
  },
  {
   "cell_type": "markdown",
   "metadata": {},
   "source": [
    "The result is acceptable for us. You can compare the result from EMT to DFT results here: [https://materialsproject.org/materials/mp-124?chemsys=Ag#equations_of_state](https://materialsproject.org/materials/mp-124?chemsys=Ag#equations_of_state) The volume from EMT is different by 1 Angstrom³ and Bulk modulus from eMT is off by a factor of 10 depending on the equation of state."
   ]
  },
  {
   "cell_type": "markdown",
   "source": [
    "#### Structure of the workflow"
   ],
   "metadata": {
    "collapsed": false
   }
  },
  {
   "cell_type": "markdown",
   "metadata": {},
   "source": [
    "We now have a workflow that starts with full structural optimization. After the structural optimization, structures with different volumes have to be created. Then, several structural optimizations with constant volume can be started. They are independent of each other and could run in parallel. At the very end, energies and volumes from these constant-volume optimizations are collected and the equation of state is fitted. An illustration of the workflow follows.\n",
    "\n",
    "![Workflow](./workflow.png)"
   ]
  },
  {
   "cell_type": "markdown",
   "source": [
    "### Workflow implementation (Equation of State)\n",
    "Jobflow implements `Job` objects that are connected to a `Flow`. We typically use the `M̀aker` class from Jobflow to create jobs and flows. [There is also a tutorial on how to write a Maker](https://materialsproject.github.io/jobflow/tutorials/4-generalized-makers.html). A `Job` is an entity that can be executed independently. We therefore have four different job types to write for the workflow above: a full structural optimization, a job to create structures with different volumes, a structural optimization with the constraint of constant volume, and a job that plots and summarizes the results for the database. As the full structural optimization and the structural optimization with the constraint of constant volume are so similar, we will write a combined class inheriting from `M̀aker` class to create these jobs."
   ],
   "metadata": {
    "collapsed": false
   }
  },
  {
   "cell_type": "markdown",
   "source": [
    "#### Structural Optimization (Job)"
   ],
   "metadata": {
    "collapsed": false
   }
  },
  {
   "cell_type": "markdown",
   "metadata": {},
   "source": [
    "Let's work on an atomic job to optimize the structure. We will use a `Structure` object to carry the structural information as it can be easily transformed into json. We need the json format as we will save our results in databases that build upon the json format. Serialization is more complicated for an `Atoms` object. Check out [https://materialsproject.github.io/maggma/concepts](maggma) to learn more."
   ]
  },
  {
   "cell_type": "markdown",
   "metadata": {},
   "source": [
    "To write an atomic job in jobflow, we have to inherit from the `Maker` class and adapt the `make` method. You can find more about jobs here: [https://materialsproject.github.io/jobflow/tutorials/3-defining-jobs.html](https://materialsproject.github.io/jobflow/tutorials/3-defining-jobs.html). Please don't forget to add the decorators (e.g., `@dataclass`) as they are central for the execution of the workflow.  The decorator `@dataclass` will add special methods to the class. See here for more info: [https://docs.python.org/3/library/dataclasses.html](https://docs.python.org/3/library/dataclasses.html)"
   ]
  },
  {
   "cell_type": "markdown",
   "source": [
    "Let's import `M̀aker`:"
   ],
   "metadata": {
    "collapsed": false
   }
  },
  {
   "cell_type": "code",
   "execution_count": 124,
   "metadata": {
    "ExecuteTime": {
     "end_time": "2023-06-02T11:24:50.262893664Z",
     "start_time": "2023-06-02T11:24:50.260617808Z"
    }
   },
   "outputs": [],
   "source": [
    "from jobflow.core.maker import Maker"
   ]
  },
  {
   "cell_type": "markdown",
   "metadata": {},
   "source": [
    "We will write a job `OptimizeJob` which inherits from `Maker` and implement the `make` method. We add a `name` to the maker which will later on help us identify which job is running. The `make` method will take a structure as an input."
   ]
  },
  {
   "cell_type": "code",
   "execution_count": 125,
   "metadata": {
    "ExecuteTime": {
     "end_time": "2023-06-02T11:24:50.269861340Z",
     "start_time": "2023-06-02T11:24:50.267082264Z"
    }
   },
   "outputs": [],
   "source": [
    "from dataclasses import dataclass\n",
    "from jobflow import job, Maker\n",
    "from pymatgen.core.structure import Structure\n",
    "\n",
    "\n",
    "@dataclass\n",
    "class OptimizeJob(Maker):\n",
    "    \"\"\"\n",
    "    Class to carry out a full optimization of a structure with the EMT calculator\n",
    "\n",
    "    Parameters\n",
    "    ----------\n",
    "    name\n",
    "        Name of the job.\n",
    "    \"\"\"\n",
    "    name: str = \"EMT-Optimization\"\n",
    "\n",
    "    @job\n",
    "    def make(self, structure: Structure):\n",
    "        pass"
   ]
  },
  {
   "cell_type": "markdown",
   "metadata": {},
   "source": [
    "In the next step, we simply add steps to perform the optimization. Thus, we take the same classes, methods and functions as before:"
   ]
  },
  {
   "cell_type": "code",
   "execution_count": 126,
   "metadata": {
    "ExecuteTime": {
     "end_time": "2023-06-02T11:24:50.357391139Z",
     "start_time": "2023-06-02T11:24:50.274207804Z"
    }
   },
   "outputs": [],
   "source": [
    "from dataclasses import dataclass\n",
    "from jobflow import job\n",
    "from pymatgen.core.structure import Structure\n",
    "\n",
    "\n",
    "@dataclass\n",
    "class OptimizeJob(Maker):\n",
    "    \"\"\"\n",
    "    Class to carry out a full optimization of a structure with the EMT calculator\n",
    "\n",
    "    Parameters\n",
    "    ----------\n",
    "    name\n",
    "        Name of the job.\n",
    "    \"\"\"\n",
    "    name: str = \"EMT-Optimization\"\n",
    "\n",
    "    @job\n",
    "    def make(self, structure: Structure):\n",
    "        adaptor = AseAtomsAdaptor()\n",
    "        atoms = adaptor.get_atoms(structure)  # get an atoms object\n",
    "        atoms.calc = EMT()  # add emt as a calculator\n",
    "\n",
    "        opt = BFGS(ExpCellFilter(atoms), logfile=\"./optimization.log\")  # optimize the structure including cell parameters\n",
    "        opt.run(fmax=0.00001)  # run the optimization\n"
   ]
  },
  {
   "cell_type": "markdown",
   "metadata": {},
   "source": [
    "We have now built a Maker to optimize our structure. We might want to add `fmax` as a parameter of our `Maker` to change the default values. We will not do this for all potential settings as it just takes a lot of time to implement... It's possible to summarize such settings within one dict, e.g. called `optimize_kwargs`."
   ]
  },
  {
   "cell_type": "code",
   "execution_count": 127,
   "metadata": {
    "ExecuteTime": {
     "end_time": "2023-06-02T11:24:50.358020561Z",
     "start_time": "2023-06-02T11:24:50.281975074Z"
    }
   },
   "outputs": [],
   "source": [
    "@dataclass\n",
    "class OptimizeJob(Maker):\n",
    "    \"\"\"\n",
    "    Class to carry out a full optimization of a structure with the EMT calculator\n",
    "\n",
    "    Parameters\n",
    "    ----------\n",
    "    name\n",
    "        Name of the job.\n",
    "    fmax\n",
    "        float that determines the forces after optimization\n",
    "    \"\"\"\n",
    "    name: str = \"EMT-Optimization\"\n",
    "    fmax: float = 0.00001\n",
    "\n",
    "    @job\n",
    "    def make(self, structure: Structure):\n",
    "        adaptor = AseAtomsAdaptor()\n",
    "        atoms = adaptor.get_atoms(structure)\n",
    "        atoms.calc = EMT()\n",
    "        opt = BFGS(ExpCellFilter(atoms), logfile=\"./optimization.log\")\n",
    "        opt.run(fmax=self.fmax)\n"
   ]
  },
  {
   "cell_type": "markdown",
   "metadata": {},
   "source": [
    "We will add another parameter `constant_volume` to be able to do a constant volume optimization with the same maker.\n",
    "\n",
    "\n",
    "To be able to connect different interdependent jobs, we also need to save our results (method should return the results we want to use further down the line) so that we can transfer our results between jobs.  For now, it will be enough to save the optimized structure and the energy at the end. You can also save forces, stresses and so on... Typically, a schema based on [Pydantic](https://docs.pydantic.dev/latest/) is developed to save the results. This is again just a lot of work and will not help us to understand the automation itself. It's again just important that all outputs can be serialized to a json."
   ]
  },
  {
   "cell_type": "code",
   "execution_count": 128,
   "metadata": {
    "ExecuteTime": {
     "end_time": "2023-06-02T11:24:50.358303776Z",
     "start_time": "2023-06-02T11:24:50.324421322Z"
    }
   },
   "outputs": [],
   "source": [
    "@dataclass\n",
    "class OptimizeJob(Maker):\n",
    "    \"\"\"\n",
    "    Class to carry out a full optimization of an atoms object\n",
    "\n",
    "    Parameters\n",
    "    ----------\n",
    "    name\n",
    "        Name of the job.\n",
    "    fmax\n",
    "        float that determines the forces after optimization\n",
    "    constant_volume\n",
    "        bool that if true will enforce an optimization with constant volume\n",
    "    \"\"\"\n",
    "    name: str = \"EMT-Optimization\"\n",
    "    fmax: float = 0.00001\n",
    "    constant_volume: bool = False\n",
    "\n",
    "    @job\n",
    "    def make(self, structure: Structure):\n",
    "        adaptor = AseAtomsAdaptor()\n",
    "        atoms = adaptor.get_atoms(structure)\n",
    "        atoms.calc = EMT()\n",
    "        opt = BFGS(ExpCellFilter(atoms, constant_volume=self.constant_volume), logfile=\"./optimization.log\")\n",
    "        opt.run(fmax=self.fmax)\n",
    "\n",
    "        out_structure = adaptor.get_structure(atoms)\n",
    "\n",
    "        results = {}\n",
    "        results[\"optimized_structure\"] = out_structure\n",
    "        results[\"input_structure\"] = structure\n",
    "        results[\"energy\"] = atoms.get_potential_energy()\n",
    "        return results"
   ]
  },
  {
   "cell_type": "markdown",
   "metadata": {},
   "source": [
    "For test purposes, we will simply now chain two optimizations, put them in a Flow (i.e., the object for workflows) and see what happens. We also always have to define an output for the flow. Very often, this is the output of the last job in the flow. We will use `run_locally` to execute the jobs locally. atomate2 has tutorials on how to [transfer such jobs to Fireworks](https://materialsproject.github.io/atomate2/user/fireworks.html) or [how to run them with a job script](https://materialsproject.github.io/atomate2/user/running-workflows.html)."
   ]
  },
  {
   "cell_type": "code",
   "execution_count": 129,
   "metadata": {
    "ExecuteTime": {
     "end_time": "2023-06-02T11:24:50.548017291Z",
     "start_time": "2023-06-02T11:24:50.324680871Z"
    }
   },
   "outputs": [
    {
     "name": "stdout",
     "output_type": "stream",
     "text": [
      "2023-06-02 13:24:50,308 INFO Started executing jobs locally\n",
      "2023-06-02 13:24:50,314 INFO Starting job - EMT-Optimization (0388d02c-3a91-4fc7-aeef-fc950db4fc18)\n",
      "      Step     Time          Energy         fmax\n",
      "BFGS:    0 13:24:50        0.011870        0.5285\n",
      "BFGS:    1 13:24:50        0.002888        0.2672\n",
      "BFGS:    2 13:24:50       -0.000355        0.0156\n",
      "BFGS:    3 13:24:50       -0.000367        0.0005\n",
      "BFGS:    4 13:24:50       -0.000367        0.0000\n",
      "2023-06-02 13:24:50,455 INFO Finished job - EMT-Optimization (0388d02c-3a91-4fc7-aeef-fc950db4fc18)\n",
      "2023-06-02 13:24:50,457 INFO Starting job - EMT-Optimization (9066b47e-e220-4e37-ba08-559b64e540bd)\n",
      "      Step     Time          Energy         fmax\n",
      "BFGS:    0 13:24:50       -0.000367        0.0000\n",
      "2023-06-02 13:24:50,498 INFO Finished job - EMT-Optimization (9066b47e-e220-4e37-ba08-559b64e540bd)\n",
      "2023-06-02 13:24:50,500 INFO Finished executing jobs locally\n",
      "{'0388d02c-3a91-4fc7-aeef-fc950db4fc18': {1: Response(output={'optimized_structure': Structure Summary\n",
      "Lattice\n",
      "    abc : 2.87336550651202 2.8733655065120205 2.87336550651202\n",
      " angles : 59.99999999999999 60.00000000000001 59.99999999999999\n",
      " volume : 16.774810547282314\n",
      "      A : -1.0240902968258463e-16 2.031776234482168 2.0317762344821686\n",
      "      B : 2.0317762344821686 2.323574183069503e-17 2.0317762344821686\n",
      "      C : 2.0317762344821686 2.031776234482168 -2.8552862920234554e-17\n",
      "    pbc : True True True\n",
      "PeriodicSite: Ag (0.0000, 0.0000, 0.0000) [0.0000, 0.0000, 0.0000], 'input_structure': Structure Summary\n",
      "Lattice\n",
      "    abc : 2.8284271247461903 2.8284271247461903 2.8284271247461903\n",
      " angles : 60.00000000000001 60.00000000000001 60.00000000000001\n",
      " volume : 16.0\n",
      "      A : 0.0 2.0 2.0\n",
      "      B : 2.0 0.0 2.0\n",
      "      C : 2.0 2.0 0.0\n",
      "    pbc : True True True\n",
      "PeriodicSite: Ag (0.0000, 0.0000, 0.0000) [0.0000, 0.0000, 0.0000], 'energy': -0.000366862539422641}, detour=None, addition=None, replace=None, stored_data=None, stop_children=False, stop_jobflow=False)}, '9066b47e-e220-4e37-ba08-559b64e540bd': {1: Response(output={'optimized_structure': Structure Summary\n",
      "Lattice\n",
      "    abc : 2.87336550651202 2.8733655065120205 2.87336550651202\n",
      " angles : 59.99999999999999 60.00000000000001 59.99999999999999\n",
      " volume : 16.774810547282314\n",
      "      A : -1.0240902968258463e-16 2.031776234482168 2.0317762344821686\n",
      "      B : 2.0317762344821686 2.323574183069503e-17 2.0317762344821686\n",
      "      C : 2.0317762344821686 2.031776234482168 -2.8552862920234554e-17\n",
      "    pbc : True True True\n",
      "PeriodicSite: Ag (0.0000, 0.0000, 0.0000) [0.0000, 0.0000, 0.0000], 'input_structure': Structure Summary\n",
      "Lattice\n",
      "    abc : 2.87336550651202 2.8733655065120205 2.87336550651202\n",
      " angles : 59.99999999999999 60.00000000000001 59.99999999999999\n",
      " volume : 16.774810547282314\n",
      "      A : -1.0240902968258463e-16 2.031776234482168 2.0317762344821686\n",
      "      B : 2.0317762344821686 2.323574183069503e-17 2.0317762344821686\n",
      "      C : 2.0317762344821686 2.031776234482168 -2.8552862920234554e-17\n",
      "    pbc : True True True\n",
      "PeriodicSite: Ag (0.0000, 0.0000, 0.0000) [0.0000, 0.0000, 0.0000], 'energy': -0.000366862539422641}, detour=None, addition=None, replace=None, stored_data=None, stop_children=False, stop_jobflow=False)}}\n"
     ]
    }
   ],
   "source": [
    "from jobflow.managers.local import run_locally\n",
    "from jobflow import Flow\n",
    "\n",
    "atoms = bulk(\"Ag\", \"fcc\", 4)\n",
    "structure = AseAtomsAdaptor().get_structure(atoms)\n",
    "maker_fullopt = OptimizeJob()\n",
    "maker_opt_constant_vol = OptimizeJob(constant_volume=True)\n",
    "job1 = maker_fullopt.make(structure=structure)\n",
    "job2 = maker_opt_constant_vol.make(structure=job1.output[\"optimized_structure\"])\n",
    "\n",
    "flow = Flow([job1, job2], output=job2.output)\n",
    "\n",
    "response = run_locally(flow)\n",
    "print(response)\n"
   ]
  },
  {
   "cell_type": "markdown",
   "metadata": {},
   "source": [
    "As you can see, this works. Of course, this is not very useful here but could be useful, for example, for DFT optimizations, where typically at least two full structural optimizations have to be started. Btw, you can also create folders for each atomic job in your workflow by using the parameter `create_folders` from `run_locally`."
   ]
  },
  {
   "cell_type": "markdown",
   "metadata": {},
   "source": [
    "#### Create structures with different volumes and start the constant-volume optimizations (job)\n",
    "We now need to build a job that creates structures with different volumes and starts the optimizations with constant volume."
   ]
  },
  {
   "cell_type": "markdown",
   "metadata": {},
   "source": [
    "We will start by using a job that is called `get_ev_curve`. It will replace itself with a `Response` object that will start a completely new flow or job. As outputs, we will collect all optimized structures and the corresponding energies! We will reuse our maker `OptimizeJob` from above."
   ]
  },
  {
   "cell_type": "code",
   "execution_count": 130,
   "metadata": {
    "ExecuteTime": {
     "end_time": "2023-06-02T11:24:50.548487097Z",
     "start_time": "2023-06-02T11:24:50.544713731Z"
    }
   },
   "outputs": [],
   "source": [
    "from jobflow import Response, job\n",
    "\n",
    "\n",
    "@job\n",
    "def get_ev_curve(structure: Structure, volumes=[0.95, 0.97, 0.99, 1.00, 1.01, 1.03, 1.05]):\n",
    "    groundstate_vol = structure.volume\n",
    "    const_vol_maker = OptimizeJob(constant_volume=True)\n",
    "    job_list = []\n",
    "    outputs = {\n",
    "        \"optimized_structures\": [],\n",
    "        \"energies\": [],\n",
    "    }\n",
    "    for vol_inc in volumes:\n",
    "        struct_here = deepcopy(structure)\n",
    "        struct_here.scale_lattice(groundstate_vol * vol_inc)\n",
    "        relax_job = const_vol_maker.make(struct_here)\n",
    "        job_list.append(relax_job)\n",
    "        outputs[\"optimized_structures\"].append(relax_job.output[\"optimized_structure\"])\n",
    "        outputs[\"energies\"].append(relax_job.output[\"energy\"])\n",
    "    return Response(replace=Flow(job_list, output=outputs))\n",
    "\n"
   ]
  },
  {
   "cell_type": "markdown",
   "metadata": {},
   "source": [
    "We can now build a flow including the full optimization and the job to change the volumes and start the constant-volume optimizations. We need to transfer the optimized structure to the second job. Please remember that `job1.output[\"optimized_structure\"]` is a reference to the future output. It can only be accessed if the job has been already executed. You cannot access this output while generating the flow for the first time."
   ]
  },
  {
   "cell_type": "code",
   "execution_count": 131,
   "metadata": {
    "ExecuteTime": {
     "end_time": "2023-06-02T11:24:50.949675880Z",
     "start_time": "2023-06-02T11:24:50.545052361Z"
    }
   },
   "outputs": [
    {
     "name": "stdout",
     "output_type": "stream",
     "text": [
      "2023-06-02 13:24:50,529 INFO Started executing jobs locally\n",
      "2023-06-02 13:24:50,533 INFO Starting job - EMT-Optimization (3c4c87fa-0ebf-4c64-8e66-48297823c632)\n",
      "      Step     Time          Energy         fmax\n",
      "BFGS:    0 13:24:50        0.011870        0.5285\n",
      "BFGS:    1 13:24:50        0.002888        0.2672\n",
      "BFGS:    2 13:24:50       -0.000355        0.0156\n",
      "BFGS:    3 13:24:50       -0.000367        0.0005\n",
      "BFGS:    4 13:24:50       -0.000367        0.0000\n",
      "2023-06-02 13:24:50,654 INFO Finished job - EMT-Optimization (3c4c87fa-0ebf-4c64-8e66-48297823c632)\n",
      "2023-06-02 13:24:50,655 INFO Starting job - get_ev_curve (e907babd-6a0d-44be-b40d-fd6665b2f813)\n",
      "2023-06-02 13:24:50,677 INFO Finished job - get_ev_curve (e907babd-6a0d-44be-b40d-fd6665b2f813)\n",
      "2023-06-02 13:24:50,683 INFO Starting job - EMT-Optimization (5bd11cb6-bf29-43cc-b4ac-39c0934e7c38)\n",
      "      Step     Time          Energy         fmax\n",
      "BFGS:    0 13:24:50        0.014081        0.0000\n",
      "2023-06-02 13:24:50,714 INFO Finished job - EMT-Optimization (5bd11cb6-bf29-43cc-b4ac-39c0934e7c38)\n",
      "2023-06-02 13:24:50,715 INFO Starting job - EMT-Optimization (cc83e26d-1d53-4aa4-8029-d593d6db34d0)\n",
      "      Step     Time          Energy         fmax\n",
      "BFGS:    0 13:24:50        0.004634        0.0000\n",
      "2023-06-02 13:24:50,743 INFO Finished job - EMT-Optimization (cc83e26d-1d53-4aa4-8029-d593d6db34d0)\n",
      "2023-06-02 13:24:50,744 INFO Starting job - EMT-Optimization (029827d8-499d-47c6-8824-261357da438a)\n",
      "      Step     Time          Energy         fmax\n",
      "BFGS:    0 13:24:50        0.000168        0.0000\n",
      "2023-06-02 13:24:50,773 INFO Finished job - EMT-Optimization (029827d8-499d-47c6-8824-261357da438a)\n",
      "2023-06-02 13:24:50,774 INFO Starting job - EMT-Optimization (3f4bd3b8-2cca-42d6-b603-008737fc9edf)\n",
      "      Step     Time          Energy         fmax\n",
      "BFGS:    0 13:24:50       -0.000367        0.0000\n",
      "2023-06-02 13:24:50,804 INFO Finished job - EMT-Optimization (3f4bd3b8-2cca-42d6-b603-008737fc9edf)\n",
      "2023-06-02 13:24:50,805 INFO Starting job - EMT-Optimization (702a9c51-e989-4993-bf1d-a25644a33dd5)\n",
      "      Step     Time          Energy         fmax\n",
      "BFGS:    0 13:24:50        0.000148        0.0000\n",
      "2023-06-02 13:24:50,834 INFO Finished job - EMT-Optimization (702a9c51-e989-4993-bf1d-a25644a33dd5)\n",
      "2023-06-02 13:24:50,835 INFO Starting job - EMT-Optimization (51f776ef-342c-4737-a4f0-47e060157eaf)\n",
      "      Step     Time          Energy         fmax\n",
      "BFGS:    0 13:24:50        0.004093        0.0000\n",
      "2023-06-02 13:24:50,866 INFO Finished job - EMT-Optimization (51f776ef-342c-4737-a4f0-47e060157eaf)\n",
      "2023-06-02 13:24:50,867 INFO Starting job - EMT-Optimization (a09e0c31-5d96-4f6f-9001-4011d1c6918d)\n",
      "      Step     Time          Energy         fmax\n",
      "BFGS:    0 13:24:50        0.011572        0.0000\n",
      "2023-06-02 13:24:50,899 INFO Finished job - EMT-Optimization (a09e0c31-5d96-4f6f-9001-4011d1c6918d)\n",
      "2023-06-02 13:24:50,900 INFO Starting job - store_inputs (e907babd-6a0d-44be-b40d-fd6665b2f813, 2)\n",
      "2023-06-02 13:24:50,904 INFO Finished job - store_inputs (e907babd-6a0d-44be-b40d-fd6665b2f813, 2)\n",
      "2023-06-02 13:24:50,905 INFO Finished executing jobs locally\n"
     ]
    }
   ],
   "source": [
    "atoms = bulk(\"Ag\", \"fcc\", 4)\n",
    "structure = AseAtomsAdaptor().get_structure(atoms)\n",
    "maker_fullopt = OptimizeJob()\n",
    "maker_opt_constant_vol = OptimizeJob(constant_volume=True)\n",
    "job1 = maker_fullopt.make(structure=structure)\n",
    "job2 = get_ev_curve(structure=job1.output[\"optimized_structure\"])\n",
    "\n",
    "flow = Flow([job1, job2], output=job2.output)\n",
    "\n",
    "response = run_locally(flow)"
   ]
  },
  {
   "cell_type": "markdown",
   "source": [
    "#### Summary Job"
   ],
   "metadata": {
    "collapsed": false
   }
  },
  {
   "cell_type": "markdown",
   "metadata": {},
   "source": [
    "We will now write a job `get_results_ev_curve` that will collect all results, make plots and store the information in a database. It will start from a list of structures and energies and then plot an EV curve to a file and return the most important results."
   ]
  },
  {
   "cell_type": "code",
   "execution_count": 132,
   "metadata": {
    "ExecuteTime": {
     "end_time": "2023-06-02T11:24:50.950089073Z",
     "start_time": "2023-06-02T11:24:50.948513591Z"
    }
   },
   "outputs": [],
   "source": [
    "@job\n",
    "def get_results_ev_curve(list_structures, list_energies):\n",
    "    list_volumes = []\n",
    "    for struct in list_structures:\n",
    "        list_volumes.append(struct.volume)\n",
    "\n",
    "    eos = EquationOfState(list_volumes, list_energies)\n",
    "    v0, e0, B = eos.fit()\n",
    "    eos.plot('eos.png')\n",
    "\n",
    "    results = {}\n",
    "    results[\"V0\"] = v0\n",
    "    results[\"e0\"] = e0\n",
    "    results[\"B\"] = B\n",
    "\n",
    "    return Response(results)"
   ]
  },
  {
   "cell_type": "markdown",
   "source": [
    "#### Full workflow"
   ],
   "metadata": {
    "collapsed": false
   }
  },
  {
   "cell_type": "markdown",
   "metadata": {},
   "source": [
    "Now, we combine all jobs to a larger workflow and check out the output. To do so, we will need a universally unique identifier (uuid). In our case, this will be te one of the last job. Again, we also need to transfer all information between the jobs correctly."
   ]
  },
  {
   "cell_type": "code",
   "execution_count": 133,
   "metadata": {
    "ExecuteTime": {
     "end_time": "2023-06-02T11:24:51.801044737Z",
     "start_time": "2023-06-02T11:24:50.949218065Z"
    }
   },
   "outputs": [
    {
     "name": "stdout",
     "output_type": "stream",
     "text": [
      "2023-06-02 13:24:50,928 INFO Started executing jobs locally\n",
      "2023-06-02 13:24:50,931 INFO Starting job - EMT-Optimization (902be8d9-fe88-4c7a-a3e2-6c64835df876)\n",
      "      Step     Time          Energy         fmax\n",
      "BFGS:    0 13:24:50        0.011870        0.5285\n",
      "BFGS:    1 13:24:50        0.002888        0.2672\n",
      "BFGS:    2 13:24:50       -0.000355        0.0156\n",
      "BFGS:    3 13:24:51       -0.000367        0.0005\n",
      "BFGS:    4 13:24:51       -0.000367        0.0000\n",
      "2023-06-02 13:24:51,051 INFO Finished job - EMT-Optimization (902be8d9-fe88-4c7a-a3e2-6c64835df876)\n",
      "2023-06-02 13:24:51,052 INFO Starting job - get_ev_curve (2bf03059-560a-4209-a7d3-f1d2b1efd942)\n",
      "2023-06-02 13:24:51,071 INFO Finished job - get_ev_curve (2bf03059-560a-4209-a7d3-f1d2b1efd942)\n",
      "2023-06-02 13:24:51,077 INFO Starting job - EMT-Optimization (11f543b8-f243-4819-bfa5-39c0c3e50eea)\n",
      "      Step     Time          Energy         fmax\n",
      "BFGS:    0 13:24:51        0.014081        0.0000\n",
      "2023-06-02 13:24:51,106 INFO Finished job - EMT-Optimization (11f543b8-f243-4819-bfa5-39c0c3e50eea)\n",
      "2023-06-02 13:24:51,107 INFO Starting job - EMT-Optimization (e68c109b-f78f-4fa3-8cce-2238637e4c88)\n",
      "      Step     Time          Energy         fmax\n",
      "BFGS:    0 13:24:51        0.004634        0.0000\n",
      "2023-06-02 13:24:51,137 INFO Finished job - EMT-Optimization (e68c109b-f78f-4fa3-8cce-2238637e4c88)\n",
      "2023-06-02 13:24:51,138 INFO Starting job - EMT-Optimization (214ca90c-ee9d-4c07-9453-24e2d552e0ca)\n",
      "      Step     Time          Energy         fmax\n",
      "BFGS:    0 13:24:51        0.000168        0.0000\n",
      "2023-06-02 13:24:51,171 INFO Finished job - EMT-Optimization (214ca90c-ee9d-4c07-9453-24e2d552e0ca)\n",
      "2023-06-02 13:24:51,172 INFO Starting job - EMT-Optimization (21e1ed61-e1b0-4fca-88b9-f52506ba7bfe)\n",
      "      Step     Time          Energy         fmax\n",
      "BFGS:    0 13:24:51       -0.000367        0.0000\n",
      "2023-06-02 13:24:51,202 INFO Finished job - EMT-Optimization (21e1ed61-e1b0-4fca-88b9-f52506ba7bfe)\n",
      "2023-06-02 13:24:51,203 INFO Starting job - EMT-Optimization (431bbe49-3ef2-4741-8ebd-4c5d154fa600)\n",
      "      Step     Time          Energy         fmax\n",
      "BFGS:    0 13:24:51        0.000148        0.0000\n",
      "2023-06-02 13:24:51,232 INFO Finished job - EMT-Optimization (431bbe49-3ef2-4741-8ebd-4c5d154fa600)\n",
      "2023-06-02 13:24:51,233 INFO Starting job - EMT-Optimization (c8530f87-25c5-4bd7-8082-2b222dad7bea)\n",
      "      Step     Time          Energy         fmax\n",
      "BFGS:    0 13:24:51        0.004093        0.0000\n",
      "2023-06-02 13:24:51,262 INFO Finished job - EMT-Optimization (c8530f87-25c5-4bd7-8082-2b222dad7bea)\n",
      "2023-06-02 13:24:51,263 INFO Starting job - EMT-Optimization (42fd467a-a9d8-4413-a948-2b8d0020c735)\n",
      "      Step     Time          Energy         fmax\n",
      "BFGS:    0 13:24:51        0.011572        0.0000\n",
      "2023-06-02 13:24:51,292 INFO Finished job - EMT-Optimization (42fd467a-a9d8-4413-a948-2b8d0020c735)\n",
      "2023-06-02 13:24:51,294 INFO Starting job - store_inputs (2bf03059-560a-4209-a7d3-f1d2b1efd942, 2)\n",
      "2023-06-02 13:24:51,299 INFO Finished job - store_inputs (2bf03059-560a-4209-a7d3-f1d2b1efd942, 2)\n",
      "2023-06-02 13:24:51,299 INFO Starting job - get_results_ev_curve (b69a4221-0d9d-4c89-a53c-c7d8820734f4)\n",
      "2023-06-02 13:24:51,508 INFO Finished job - get_results_ev_curve (b69a4221-0d9d-4c89-a53c-c7d8820734f4)\n",
      "2023-06-02 13:24:51,512 INFO Finished executing jobs locally\n",
      "{'V0': 16.7748202620472, 'e0': -0.00036673834964062735, 'B': 0.6250761058809655}\n"
     ]
    },
    {
     "data": {
      "text/plain": "<Figure size 640x480 with 1 Axes>",
      "image/png": "[encoded data removed]"
     },
     "metadata": {},
     "output_type": "display_data"
    }
   ],
   "source": [
    "atoms = bulk(\"Ag\", \"fcc\", 4)\n",
    "structure = AseAtomsAdaptor().get_structure(atoms)\n",
    "maker_fullopt = OptimizeJob()\n",
    "job1 = maker_fullopt.make(structure=structure)\n",
    "job2 = get_ev_curve(structure=job1.output[\"optimized_structure\"])\n",
    "job3 = get_results_ev_curve(list_structures=job2.output[\"optimized_structures\"], list_energies=job2.output[\"energies\"])\n",
    "flow = Flow([job1, job2, job3], output=job3.output)\n",
    "\n",
    "response = run_locally(flow)\n",
    "print(response[flow.jobs[-1].uuid][1].output)"
   ]
  },
  {
   "cell_type": "markdown",
   "metadata": {},
   "source": [
    "It works. We get the same results!\n"
   ]
  },
  {
   "cell_type": "markdown",
   "source": [
    "#### Validation of the results with pydantic"
   ],
   "metadata": {
    "collapsed": false
   }
  },
  {
   "cell_type": "markdown",
   "metadata": {},
   "source": [
    "I will just show you now how to validate your data with a [pydantic](https://docs.pydantic.dev) schema. This allows to describe your outputs and make sure that you also get all relevant data in the right format. Again, this is only one tiny example. In practice, you would add many more options! This is how such a schema can look in practice: [https://github.com/materialsproject/atomate2/blob/main/src/atomate2/lobster/schemas.py](https://github.com/materialsproject/atomate2/blob/main/src/atomate2/lobster/schemas.py)"
   ]
  },
  {
   "cell_type": "code",
   "execution_count": 134,
   "metadata": {
    "ExecuteTime": {
     "end_time": "2023-06-02T11:24:51.801591755Z",
     "start_time": "2023-06-02T11:24:51.776545282Z"
    }
   },
   "outputs": [],
   "source": [
    "from pydantic import BaseModel, Field\n",
    "\n",
    "\n",
    "class EOS_Schema(BaseModel):\n",
    "    \"\"\"Schema to store outputs from EV curve.\"\"\"\n",
    "\n",
    "    V0: float = Field(\"Volume in Angstrom**3\")\n",
    "    e0: float = Field(\"Energy in eV\")\n",
    "    B: float = Field(\n",
    "        \"Bulk modulus\",\n",
    "    )\n",
    "\n",
    "\n",
    "@job(output_schema=EOS_Schema)\n",
    "def get_results_ev_curve(list_structures, list_energies):\n",
    "    list_volumes = []\n",
    "    for struct in list_structures:\n",
    "        list_volumes.append(struct.volume)\n",
    "\n",
    "    eos = EquationOfState(list_volumes, list_energies)\n",
    "    v0, e0, B = eos.fit()\n",
    "    eos.plot('eos.png')\n",
    "\n",
    "    results = {}\n",
    "    results[\"V0\"] = v0\n",
    "    results[\"e0\"] = e0\n",
    "    results[\"B\"] = B\n",
    "    schema = EOS_Schema(**results)\n",
    "    return Response(schema)"
   ]
  },
  {
   "cell_type": "markdown",
   "metadata": {},
   "source": [
    "We will add this now to the workflow and run it again."
   ]
  },
  {
   "cell_type": "code",
   "execution_count": 145,
   "metadata": {
    "ExecuteTime": {
     "end_time": "2023-06-02T13:06:49.086634728Z",
     "start_time": "2023-06-02T13:06:48.119715078Z"
    }
   },
   "outputs": [
    {
     "name": "stdout",
     "output_type": "stream",
     "text": [
      "2023-06-02 15:06:48,131 INFO Started executing jobs locally\n",
      "2023-06-02 15:06:48,138 INFO Starting job - EMT-Optimization (5240882e-cdf4-4177-b201-72c7cf8e66f1)\n",
      "      Step     Time          Energy         fmax\n",
      "BFGS:    0 15:06:48        0.011870        0.5285\n",
      "BFGS:    1 15:06:48        0.002888        0.2672\n",
      "BFGS:    2 15:06:48       -0.000355        0.0156\n",
      "BFGS:    3 15:06:48       -0.000367        0.0005\n",
      "BFGS:    4 15:06:48       -0.000367        0.0000\n",
      "2023-06-02 15:06:48,273 INFO Finished job - EMT-Optimization (5240882e-cdf4-4177-b201-72c7cf8e66f1)\n",
      "2023-06-02 15:06:48,275 INFO Starting job - get_ev_curve (6a98b3f8-44b5-478d-be90-298bd2e0d454)\n",
      "2023-06-02 15:06:48,297 INFO Finished job - get_ev_curve (6a98b3f8-44b5-478d-be90-298bd2e0d454)\n",
      "2023-06-02 15:06:48,304 INFO Starting job - EMT-Optimization (5108db21-84c0-48be-920d-3b95b8dfb20d)\n",
      "      Step     Time          Energy         fmax\n",
      "BFGS:    0 15:06:48        0.014081        0.0000\n",
      "2023-06-02 15:06:48,335 INFO Finished job - EMT-Optimization (5108db21-84c0-48be-920d-3b95b8dfb20d)\n",
      "2023-06-02 15:06:48,336 INFO Starting job - EMT-Optimization (be493ae3-e285-4e2e-a095-f4d3cb758f51)\n",
      "      Step     Time          Energy         fmax\n",
      "BFGS:    0 15:06:48        0.004634        0.0000\n",
      "2023-06-02 15:06:48,367 INFO Finished job - EMT-Optimization (be493ae3-e285-4e2e-a095-f4d3cb758f51)\n",
      "2023-06-02 15:06:48,368 INFO Starting job - EMT-Optimization (f553fb3b-5657-4a97-9401-f6546800c767)\n",
      "      Step     Time          Energy         fmax\n",
      "BFGS:    0 15:06:48        0.000168        0.0000\n",
      "2023-06-02 15:06:48,399 INFO Finished job - EMT-Optimization (f553fb3b-5657-4a97-9401-f6546800c767)\n",
      "2023-06-02 15:06:48,400 INFO Starting job - EMT-Optimization (c14b6359-038c-4d13-9f75-dfb81e3b605f)\n",
      "      Step     Time          Energy         fmax\n",
      "BFGS:    0 15:06:48       -0.000367        0.0000\n",
      "2023-06-02 15:06:48,430 INFO Finished job - EMT-Optimization (c14b6359-038c-4d13-9f75-dfb81e3b605f)\n",
      "2023-06-02 15:06:48,431 INFO Starting job - EMT-Optimization (6a36d289-df6d-465b-8543-1cb1b0ee46ab)\n",
      "      Step     Time          Energy         fmax\n",
      "BFGS:    0 15:06:48        0.000148        0.0000\n",
      "2023-06-02 15:06:48,461 INFO Finished job - EMT-Optimization (6a36d289-df6d-465b-8543-1cb1b0ee46ab)\n",
      "2023-06-02 15:06:48,462 INFO Starting job - EMT-Optimization (1b438726-8055-471f-80c3-7468f63f8f6a)\n",
      "      Step     Time          Energy         fmax\n",
      "BFGS:    0 15:06:48        0.004093        0.0000\n",
      "2023-06-02 15:06:48,490 INFO Finished job - EMT-Optimization (1b438726-8055-471f-80c3-7468f63f8f6a)\n",
      "2023-06-02 15:06:48,492 INFO Starting job - EMT-Optimization (1cd5ec3c-553b-498e-b8e0-9bfd54f86a24)\n",
      "      Step     Time          Energy         fmax\n",
      "BFGS:    0 15:06:48        0.011572        0.0000\n",
      "2023-06-02 15:06:48,522 INFO Finished job - EMT-Optimization (1cd5ec3c-553b-498e-b8e0-9bfd54f86a24)\n",
      "2023-06-02 15:06:48,523 INFO Starting job - store_inputs (6a98b3f8-44b5-478d-be90-298bd2e0d454, 2)\n",
      "2023-06-02 15:06:48,529 INFO Finished job - store_inputs (6a98b3f8-44b5-478d-be90-298bd2e0d454, 2)\n",
      "2023-06-02 15:06:48,530 INFO Starting job - get_results_ev_curve (fbeb0437-2cac-4882-821f-8e9da21a87f4)\n",
      "2023-06-02 15:06:48,763 INFO Finished job - get_results_ev_curve (fbeb0437-2cac-4882-821f-8e9da21a87f4)\n",
      "2023-06-02 15:06:48,764 INFO Finished executing jobs locally\n",
      "V0=16.7748202620472 e0=-0.00036673834964062735 B=0.6250761058809655\n"
     ]
    },
    {
     "data": {
      "text/plain": "<Figure size 640x480 with 1 Axes>",
      "image/png": "[encoded data removed]"
     },
     "metadata": {},
     "output_type": "display_data"
    }
   ],
   "source": [
    "atoms = bulk(\"Ag\", \"fcc\", 4)\n",
    "structure = AseAtomsAdaptor().get_structure(atoms)\n",
    "maker_fullopt = OptimizeJob()\n",
    "job1 = maker_fullopt.make(structure=structure)\n",
    "job2 = get_ev_curve(structure=job1.output[\"optimized_structure\"])\n",
    "job3 = get_results_ev_curve(list_structures=job2.output[\"optimized_structures\"], list_energies=job2.output[\"energies\"])\n",
    "flow = Flow([job1, job2, job3], output=job3.output)\n",
    "\n",
    "response = run_locally(flow)\n",
    "print(response[flow.jobs[-1].uuid][1].output)"
   ]
  },
  {
   "cell_type": "markdown",
   "metadata": {},
   "source": [
    "You have seen all basic functionalities to write workflows with jobflow."
   ]
  },
  {
   "cell_type": "markdown",
   "metadata": {},
   "source": [
    "#### Exercises\n",
    "1. Please build a maker for the whole workflow! You can find an example here: [https://github.com/materialsproject/atomate2/blob/main/src/atomate2/vasp/flows/lobster.py](https://github.com/materialsproject/atomate2/blob/main/src/atomate2/vasp/flows/lobster.py)\n",
    "2. Then, use the maker for different structure or elements: e.g., Al or other elements that work with EMT."
   ]
  },
  {
   "cell_type": "markdown",
   "metadata": {},
   "source": [
    "## Workflow to compute phonons (vibrational properties of crystals)"
   ]
  },
  {
   "cell_type": "markdown",
   "source": [
    "### Introduction\n"
   ],
   "metadata": {
    "collapsed": false
   }
  },
  {
   "cell_type": "markdown",
   "metadata": {},
   "source": [
    "We will now write a workflow to compute phonons with [Phonopy](https://phonopy.github.io/phonopy/). We will only compute phonon densities of states and not phonon band structures. It is possible to implement this. However, this is significantly more work and does not help you to learn about the automation itself. If you would like to try this, everything needed is implemented in pymatgen but this is really a more advanced task. Again, we will use the EMT calculator to speed up the calculations."
   ]
  },
  {
   "cell_type": "markdown",
   "source": [
    "### Install Phonopy"
   ],
   "metadata": {
    "collapsed": false
   }
  },
  {
   "cell_type": "markdown",
   "source": [
    "We need to install phonopy."
   ],
   "metadata": {
    "collapsed": false
   }
  },
  {
   "cell_type": "code",
   "execution_count": null,
   "outputs": [],
   "source": [
    "%%capture\n",
    "!pip install phonopy"
   ],
   "metadata": {
    "collapsed": false
   }
  },
  {
   "cell_type": "markdown",
   "source": [
    "### Workflow structure"
   ],
   "metadata": {
    "collapsed": false
   }
  },
  {
   "cell_type": "markdown",
   "metadata": {},
   "source": [
    "We will compute phonons with the finite differences approach which implemented in Phonopy. You can check out this reference in case you are interested: [https://onlinelibrary.wiley.com/doi/10.1002/anie.200906780](https://onlinelibrary.wiley.com/doi/10.1002/anie.200906780).\n",
    "\n",
    "We will first optimize the crystal structure, then generate displaced structures and evaluate forces for the displaced structures. This will allow us to compute force constants for the whole unit cell. Those force constants can then be fourier-transformed to the dynamical matrix within Phonopy. This dynamical matrix will then be used to to get frequencies and eigenvalues describing the vibrations  (phonons) in the crystal structure.\n",
    "\n",
    "We can reuse the `OptimizeJob` Maker from before for the structural optimization. We need a job that creates the displaced structures and one that starts the evaluations of the forces. This implies that we need an additional static job that just returns forces based on the displaced structure. At the very end, we need a job to summarize the job, create plots and return the results to a database. We will not implement the last job fully."
   ]
  },
  {
   "cell_type": "markdown",
   "metadata": {},
   "source": [
    "![workflow for phonons](workflow2.png)"
   ]
  },
  {
   "cell_type": "markdown",
   "source": [
    "### Compute Forces of Displaced Structures"
   ],
   "metadata": {
    "collapsed": false
   }
  },
  {
   "cell_type": "markdown",
   "metadata": {},
   "source": [
    "Let's build a static job first that computes forces for a structure. The structure is very similar to the `OptimizeJob`"
   ]
  },
  {
   "cell_type": "code",
   "execution_count": 137,
   "metadata": {
    "ExecuteTime": {
     "end_time": "2023-06-02T11:24:55.377299239Z",
     "start_time": "2023-06-02T11:24:55.374925150Z"
    }
   },
   "outputs": [],
   "source": [
    "@dataclass\n",
    "class StaticJob(Maker):\n",
    "    \"\"\"\n",
    "    Class to compute energy and forces for a structure\n",
    "\n",
    "    Parameters\n",
    "    ----------\n",
    "    name\n",
    "        Name of the job.\n",
    "    \"\"\"\n",
    "    name: str = \"EMT-StaticRun\"\n",
    "\n",
    "    @job\n",
    "    def make(self, structure: Structure):\n",
    "        adaptor = AseAtomsAdaptor()\n",
    "        atoms = adaptor.get_atoms(structure)\n",
    "        atoms.calc = EMT()\n",
    "        results = {}\n",
    "        results[\"input_structure\"] = structure\n",
    "        results[\"energy\"] = atoms.get_potential_energy()\n",
    "        results[\"force\"] = atoms.get_forces()\n",
    "        return results\n",
    "\n"
   ]
  },
  {
   "cell_type": "markdown",
   "source": [
    "### Create displaced structures (job)"
   ],
   "metadata": {
    "collapsed": false
   }
  },
  {
   "cell_type": "markdown",
   "metadata": {},
   "source": [
    "Now, we need to build jobs that will create displacements for the finite displacement method based on an optimized `Structure`, run all static runs and then collect the results."
   ]
  },
  {
   "cell_type": "markdown",
   "metadata": {},
   "source": [
    "Let's start with the job that creates the displacements. It starts from an optimized structure and one can also define the size of the supercell matrix for the finite displacement approach:"
   ]
  },
  {
   "cell_type": "code",
   "execution_count": 138,
   "metadata": {
    "ExecuteTime": {
     "end_time": "2023-06-02T11:24:55.383359867Z",
     "start_time": "2023-06-02T11:24:55.377707561Z"
    }
   },
   "outputs": [],
   "source": [
    "from phonopy import Phonopy\n",
    "from phonopy.units import VaspToTHz\n",
    "from pymatgen.io.phonopy import (\n",
    "    get_phonopy_structure,\n",
    "    get_pmg_structure,\n",
    ")\n",
    "\n",
    "\n",
    "@job\n",
    "def create_displacements(structure: Structure, supercell_matrix):\n",
    "    factor = VaspToTHz  # we need this conversion factor. We will rely on eV\n",
    "    cell = get_phonopy_structure(structure)  # this transforms the structure into a format that phonopy can use\n",
    "    phonon = Phonopy(\n",
    "        cell,\n",
    "        supercell_matrix,  # we need to compute forces for displaced supercells of our initial structure\n",
    "        factor=factor,\n",
    "    )\n",
    "    phonon.generate_displacements()  # phonopy will generate the displacements\n",
    "\n",
    "    supercells = phonon.supercells_with_displacements  # these are all displaced structures\n",
    "\n",
    "    displacements = []\n",
    "    for icell in supercells:\n",
    "        displacements.append(get_pmg_structure(icell))  # we will collect all structures in a pymatgen structure format\n",
    "\n",
    "    return displacements"
   ]
  },
  {
   "cell_type": "markdown",
   "source": [
    "### Start forces computations (job)"
   ],
   "metadata": {
    "collapsed": false
   }
  },
  {
   "cell_type": "markdown",
   "source": [
    "Now, we will generate static jobs for all generated structures. It's important to remember again that the outputs contain references. You can store the output references in a list or dictionary, but you cannot perform a numerical operation on the outputs before the job has been executed. In the next job, we will be able to resolve the displaced output structures from the previous jobs, but cannot perform any numerical operation on the forces from the static jobs as these computations still have to be performed. This has to be done in an additional job."
   ],
   "metadata": {
    "collapsed": false
   }
  },
  {
   "cell_type": "markdown",
   "metadata": {},
   "source": []
  },
  {
   "cell_type": "code",
   "execution_count": 139,
   "metadata": {
    "ExecuteTime": {
     "end_time": "2023-06-02T11:24:55.427473845Z",
     "start_time": "2023-06-02T11:24:55.384385867Z"
    }
   },
   "outputs": [],
   "source": [
    "@job\n",
    "def run_displacements(displacements):\n",
    "    static_maker = StaticJob()\n",
    "    runs = []\n",
    "    forces = []\n",
    "    for displacement in displacements:\n",
    "        displacement_run = static_maker.make(displacement)\n",
    "        forces.append(displacement_run.output[\n",
    "                          \"force\"])  # this is possible but you cannot transform the array to a numpy array yet as the static_maker jobs haven't been run yet!\n",
    "        runs.append(displacement_run)\n",
    "\n",
    "    output = {\"forces\": forces}  #we will collect all forces from the runs.\n",
    "\n",
    "    return Response(replace=Flow(runs, output))"
   ]
  },
  {
   "cell_type": "markdown",
   "source": [
    "### Plots and Summary (Job)"
   ],
   "metadata": {
    "collapsed": false
   }
  },
  {
   "cell_type": "markdown",
   "metadata": {},
   "source": [
    "Now, we will write a job that evaluates all results. We again need to recreate the correct phonopy settings. Then, we use the plotting tools from pymatgen to plot the phonon density of states."
   ]
  },
  {
   "cell_type": "code",
   "execution_count": 140,
   "metadata": {
    "ExecuteTime": {
     "end_time": "2023-06-02T11:24:55.428040472Z",
     "start_time": "2023-06-02T11:24:55.394298478Z"
    }
   },
   "outputs": [],
   "source": [
    "from pymatgen.phonon.plotter import PhononDosPlotter\n",
    "from pymatgen.io.phonopy import (\n",
    "    get_ph_dos\n",
    ")\n",
    "\n",
    "\n",
    "@job\n",
    "def summarize_phonopy_results(structure: Structure, forces, supercell_matrix, kpoints=[10, 10, 10]):\n",
    "    forces_set = []\n",
    "    for force in forces:\n",
    "        forces_set.append(np.array(force))\n",
    "\n",
    "    factor = VaspToTHz\n",
    "    cell = get_phonopy_structure(structure)\n",
    "    phonon = Phonopy(\n",
    "        cell,\n",
    "        supercell_matrix,\n",
    "        factor=factor,\n",
    "    )\n",
    "    phonon.generate_displacements()\n",
    "    phonon.produce_force_constants(forces=forces_set)\n",
    "    phonon.save(\"phonopy.yaml\")\n",
    "    phonon.run_mesh(kpoints)\n",
    "    phonon.run_total_dos()\n",
    "    phonon.write_total_dos(filename=\"phonon_dos.yaml\")\n",
    "    dos = get_ph_dos(\"phonon_dos.yaml\")\n",
    "    new_plotter_dos = PhononDosPlotter()\n",
    "    new_plotter_dos.add_dos(label=\"total\", dos=dos)\n",
    "    new_plotter_dos.save_plot(filename=\"phonon_dos.eps\")\n",
    "    return {\"PhononDOS\": dos}"
   ]
  },
  {
   "cell_type": "markdown",
   "source": [
    "### Workflow"
   ],
   "metadata": {
    "collapsed": false
   }
  },
  {
   "cell_type": "markdown",
   "metadata": {},
   "source": [
    "Now we connect the jobs with a structural optimization."
   ]
  },
  {
   "cell_type": "code",
   "execution_count": 141,
   "metadata": {
    "scrolled": false,
    "ExecuteTime": {
     "end_time": "2023-06-02T11:24:56.550755025Z",
     "start_time": "2023-06-02T11:24:55.408227907Z"
    }
   },
   "outputs": [
    {
     "name": "stdout",
     "output_type": "stream",
     "text": [
      "2023-06-02 13:24:55,426 INFO Started executing jobs locally\n",
      "2023-06-02 13:24:55,431 INFO Starting job - EMT-Optimization (3922d749-b7ce-4fe3-a151-74620962aa53)\n",
      "      Step     Time          Energy         fmax\n",
      "BFGS:    0 13:24:55        0.088477        1.5173\n",
      "BFGS:    1 13:24:55        0.018361        0.6601\n",
      "BFGS:    2 13:24:55       -0.000016        0.0864\n",
      "BFGS:    3 13:24:55       -0.000365        0.0064\n",
      "BFGS:    4 13:24:55       -0.000367        0.0001\n",
      "BFGS:    5 13:24:55       -0.000367        0.0000\n",
      "2023-06-02 13:24:55,638 INFO Finished job - EMT-Optimization (3922d749-b7ce-4fe3-a151-74620962aa53)\n",
      "2023-06-02 13:24:55,639 INFO Starting job - create_displacements (cd140907-9218-4737-9b96-ec6a981e9a06)\n",
      "2023-06-02 13:24:55,743 INFO Finished job - create_displacements (cd140907-9218-4737-9b96-ec6a981e9a06)\n",
      "2023-06-02 13:24:55,744 INFO Starting job - run_displacements (38baa312-10f1-4588-b873-247f655853db)\n",
      "2023-06-02 13:24:55,757 INFO Finished job - run_displacements (38baa312-10f1-4588-b873-247f655853db)\n",
      "2023-06-02 13:24:55,760 INFO Starting job - EMT-StaticRun (280c9c61-8915-41bb-8a8d-1ccac2b1c731)\n",
      "2023-06-02 13:24:55,799 INFO Finished job - EMT-StaticRun (280c9c61-8915-41bb-8a8d-1ccac2b1c731)\n",
      "2023-06-02 13:24:55,802 INFO Starting job - store_inputs (38baa312-10f1-4588-b873-247f655853db, 2)\n",
      "2023-06-02 13:24:55,806 INFO Finished job - store_inputs (38baa312-10f1-4588-b873-247f655853db, 2)\n",
      "2023-06-02 13:24:55,807 INFO Starting job - summarize_phonopy_results (e1d064f5-0ae9-4cc6-a1d7-f11149c919de)\n"
     ]
    },
    {
     "name": "stderr",
     "output_type": "stream",
     "text": [
      "The PostScript backend does not support transparency; partially transparent artists will be rendered opaque.\n"
     ]
    },
    {
     "name": "stdout",
     "output_type": "stream",
     "text": [
      "2023-06-02 13:24:56,206 INFO Finished job - summarize_phonopy_results (e1d064f5-0ae9-4cc6-a1d7-f11149c919de)\n",
      "2023-06-02 13:24:56,209 INFO Finished executing jobs locally\n"
     ]
    },
    {
     "data": {
      "text/plain": "<Figure size 1200x800 with 1 Axes>",
      "image/png": "[encoded data removed]"
     },
     "metadata": {},
     "output_type": "display_data"
    }
   ],
   "source": [
    "from jobflow.managers.local import run_locally\n",
    "from jobflow import Flow\n",
    "from ase.build import bulk\n",
    "\n",
    "from pymatgen.io.ase import AseAtomsAdaptor\n",
    "from pymatgen.core.structure import Structure\n",
    "\n",
    "atoms = bulk(\"Ag\", \"fcc\", 3.9)\n",
    "supercell_matrix = [[2, 0, 0], [0, 2, 0], [0, 0, 2]]\n",
    "structure = AseAtomsAdaptor().get_structure(atoms)\n",
    "maker_fullopt = OptimizeJob()\n",
    "job1 = maker_fullopt.make(structure=structure)\n",
    "job2 = create_displacements(structure=job1.output[\"optimized_structure\"], supercell_matrix=supercell_matrix)\n",
    "job3 = run_displacements(displacements=job2.output)\n",
    "job4 = summarize_phonopy_results(structure=job1.output[\"optimized_structure\"], forces=job3.output[\"forces\"],\n",
    "                                 supercell_matrix=supercell_matrix)\n",
    "flow = Flow([job1, job2, job3, job4], output=job4.output)\n",
    "\n",
    "response = run_locally(flow)\n",
    "\n",
    "new_plotter_dos = PhononDosPlotter()\n",
    "new_plotter_dos.add_dos(label=\"total\", dos=response[flow.jobs[-1].uuid][1].output[\"PhononDOS\"])\n",
    "new_plotter_dos.show()\n",
    "\n"
   ]
  },
  {
   "cell_type": "markdown",
   "source": [
    "If you are interested in a full phonon workflow based on DFT, please check out the atomate2 implementation: [phonon workflow in atomate2](https://github.com/materialsproject/atomate2/blob/c2d098a38a41c181be2c483f8adb83db0223b76d/src/atomate2/vasp/flows/phonons.py#L35)"
   ],
   "metadata": {
    "collapsed": false
   }
  },
  {
   "cell_type": "markdown",
   "metadata": {},
   "source": [
    "### Exercise\n",
    "1. Please write a maker for the whole flow\n",
    "2. Combine this new maker to a larger workflow. This new workflow will include three phonon runs. One will be performed at the fully optimized volume, one at a volume 1% larger, the other one at a volume 1% smaller than the fully optimized volume. This is a typical setting for computing Grüneisen parameters.\n"
   ]
  }
 ],
 "metadata": {
  "hide_input": false,
  "kernelspec": {
   "display_name": "Python 3 (ipykernel)",
   "language": "python",
   "name": "python3"
  },
  "language_info": {
   "codemirror_mode": {
    "name": "ipython",
    "version": 3
   },
   "file_extension": ".py",
   "mimetype": "text/x-python",
   "name": "python",
   "nbconvert_exporter": "python",
   "pygments_lexer": "ipython3",
   "version": "3.10.8"
  }
 },
 "nbformat": 4,
 "nbformat_minor": 1
}
